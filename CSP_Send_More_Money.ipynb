{
  "nbformat": 4,
  "nbformat_minor": 0,
  "metadata": {
    "colab": {
      "provenance": [],
      "authorship_tag": "ABX9TyOfmQadJ3O1Q5fhAu7fHyKK",
      "include_colab_link": true
    },
    "kernelspec": {
      "name": "python3",
      "display_name": "Python 3"
    },
    "language_info": {
      "name": "python"
    }
  },
  "cells": [
    {
      "cell_type": "markdown",
      "metadata": {
        "id": "view-in-github",
        "colab_type": "text"
      },
      "source": [
        "<a href=\"https://colab.research.google.com/github/Vishvesh-Bhardwaj/AI---LAB---18CSC305J/blob/main/CSP_Send_More_Money.ipynb\" target=\"_parent\"><img src=\"https://colab.research.google.com/assets/colab-badge.svg\" alt=\"Open In Colab\"/></a>"
      ]
    },
    {
      "cell_type": "code",
      "execution_count": null,
      "metadata": {
        "colab": {
          "base_uri": "https://localhost:8080/"
        },
        "id": "53bHpYbOdvXD",
        "outputId": "d5135c75-5e0a-4b2e-e95e-916d22999c85"
      },
      "outputs": [
        {
          "output_type": "stream",
          "name": "stdout",
          "text": [
            "\n",
            "CRYPTARITHMETIC PUZZLE SOLVER\n",
            "WORD1 + WORD2 = RESULT\n",
            "Enter WORD1: MIKE\n",
            "Enter WORD2: JACK\n",
            "Enter RESULT: JONES\n",
            "Solutions:\n",
            "8543 + 1694 = 10237\t{'M': 8, 'I': 5, 'K': 4, 'E': 3, 'J': 1, 'A': 6, 'C': 9, 'O': 0, 'N': 2, 'S': 7}\n",
            "8632 + 1793 = 10425\t{'M': 8, 'I': 6, 'K': 3, 'E': 2, 'J': 1, 'A': 7, 'C': 9, 'O': 0, 'N': 4, 'S': 5}\n",
            "8643 + 1594 = 10237\t{'M': 8, 'I': 6, 'K': 4, 'E': 3, 'J': 1, 'A': 5, 'C': 9, 'O': 0, 'N': 2, 'S': 7}\n",
            "8732 + 1693 = 10425\t{'M': 8, 'I': 7, 'K': 3, 'E': 2, 'J': 1, 'A': 6, 'C': 9, 'O': 0, 'N': 4, 'S': 5}\n",
            "9285 + 1468 = 10753\t{'M': 9, 'I': 2, 'K': 8, 'E': 5, 'J': 1, 'A': 4, 'C': 6, 'O': 0, 'N': 7, 'S': 3}\n",
            "9485 + 1268 = 10753\t{'M': 9, 'I': 4, 'K': 8, 'E': 5, 'J': 1, 'A': 2, 'C': 6, 'O': 0, 'N': 7, 'S': 3}\n"
          ]
        }
      ],
      "source": [
        "import re\n",
        "solved = False\n",
        "def solve(letters, values, visited, words):\n",
        "  global solved\n",
        "  if len(set) == len(values):\n",
        "    map = {}\n",
        "    for letter, val in zip(letters,values):\n",
        "      map[letter] = val\n",
        "    if map[words[0][0]] == 0 or map[words[1][0]] == 0 or map[words[2][0]] == 0:\n",
        "      return\n",
        "    word1, word2, res = \"\", \"\", \"\"\n",
        "    for c in words[0]:  \n",
        "      word1 += str(map[c])\n",
        "    for c in words[1]:\n",
        "      word2 += str(map[c])\n",
        "    for c in words[2]:\n",
        "      res += str(map[c])\n",
        "    if int(word1) + int(word2) == int(res):\n",
        "      print(\"{} + {} = {}\\t{}\".format(word1, word2, res, map))\n",
        "      solved = True\n",
        "    return\n",
        "  for i in range(10):\n",
        "    if not visited[i]:\n",
        "      visited[i] = True\n",
        "      values.append(i)\n",
        "      solve(letters, values, visited, words)\n",
        "      values.pop()\n",
        "      visited[i] = False\n",
        "\n",
        "print(\"\\nCRYPTARITHMETIC PUZZLE SOLVER\")\n",
        "print(\"WORD1 + WORD2 = RESULT\")\n",
        "word1 = input(\"Enter WORD1: \").upper()\n",
        "word2 = input(\"Enter WORD2: \").upper()\n",
        "result = input(\"Enter RESULT: \").upper()\n",
        "\n",
        "if len(result) > (max(len(word1), len(word2)) + 1):\n",
        "  print(\"\\n0 Solutions!\")\n",
        "else:\n",
        "  set = []\n",
        "  for c in word1:\n",
        "    if c not in set:\n",
        "      set.append(c)\n",
        "  for c in word2:\n",
        "    if c not in set:\n",
        "      set.append(c)\n",
        "  for c in result:\n",
        "    if c not in set:\n",
        "      set.append(c)\n",
        "  if len(set) > 10:\n",
        "    print(\"\\nNo solutions!\")\n",
        "    exit()\n",
        "\n",
        "  print(\"Solutions:\")\n",
        "  solve(set, [], [False for _ in range(10)], [word1, word2, result])\n",
        "  if not solved:\n",
        "    print(\"\\n0 solutions!\")"
      ]
    }
  ]
}