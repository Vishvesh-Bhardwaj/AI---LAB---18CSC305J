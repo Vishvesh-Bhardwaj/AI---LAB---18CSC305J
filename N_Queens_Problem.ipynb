{
  "nbformat": 4,
  "nbformat_minor": 0,
  "metadata": {
    "colab": {
      "provenance": [],
      "authorship_tag": "ABX9TyO+sKyswBRovInNQ0mofkrO",
      "include_colab_link": true
    },
    "kernelspec": {
      "name": "python3",
      "display_name": "Python 3"
    },
    "language_info": {
      "name": "python"
    }
  },
  "cells": [
    {
      "cell_type": "markdown",
      "metadata": {
        "id": "view-in-github",
        "colab_type": "text"
      },
      "source": [
        "<a href=\"https://colab.research.google.com/github/Vishvesh-Bhardwaj/AI---LAB---18CSC305J/blob/main/N_Queens_Problem.ipynb\" target=\"_parent\"><img src=\"https://colab.research.google.com/assets/colab-badge.svg\" alt=\"Open In Colab\"/></a>"
      ]
    },
    {
      "cell_type": "code",
      "execution_count": null,
      "metadata": {
        "colab": {
          "base_uri": "https://localhost:8080/"
        },
        "id": "j7jVQqsfSpdV",
        "outputId": "3640fd63-db4f-4481-c90f-edb98b4efe97"
      },
      "outputs": [
        {
          "output_type": "stream",
          "name": "stdout",
          "text": [
            "Enter the number of queens\n",
            "4\n",
            "[0, 1, 0, 0]\n",
            "[0, 0, 0, 1]\n",
            "[1, 0, 0, 0]\n",
            "[0, 0, 1, 0]\n"
          ]
        }
      ],
      "source": [
        "print (\"Enter the number of queens\")\n",
        "N = int(input())\n",
        "\n",
        "board = [[0]*N for _ in range(N)]\n",
        "\n",
        "def attack(i, j):\n",
        "\n",
        "    for k in range(0,N):\n",
        "        if board[i][k]==1 or board[k][j]==1:\n",
        "            return True\n",
        "            \n",
        "    for k in range(0,N):\n",
        "        for l in range(0,N):\n",
        "            if (k+l==i+j) or (k-l==i-j):\n",
        "                if board[k][l]==1:\n",
        "                    return True\n",
        "    return False\n",
        "\n",
        "def N_queens(n):\n",
        "    if n==0:\n",
        "        return True\n",
        "    for i in range(0,N):\n",
        "        for j in range(0,N):\n",
        "            if (not(attack(i,j))) and (board[i][j]!=1):\n",
        "                board[i][j] = 1\n",
        "                if N_queens(n-1)==True:\n",
        "                    return True\n",
        "                board[i][j] = 0\n",
        "\n",
        "    return False\n",
        "\n",
        "N_queens(N)\n",
        "for i in board:\n",
        "    print (i)"
      ]
    }
  ]
}