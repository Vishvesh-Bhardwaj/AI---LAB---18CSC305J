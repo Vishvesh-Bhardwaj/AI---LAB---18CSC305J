{
  "nbformat": 4,
  "nbformat_minor": 0,
  "metadata": {
    "colab": {
      "provenance": [],
      "authorship_tag": "ABX9TyPHbzP8Q3yWok+C1W8VlCfM",
      "include_colab_link": true
    },
    "kernelspec": {
      "name": "python3",
      "display_name": "Python 3"
    },
    "language_info": {
      "name": "python"
    }
  },
  "cells": [
    {
      "cell_type": "markdown",
      "metadata": {
        "id": "view-in-github",
        "colab_type": "text"
      },
      "source": [
        "<a href=\"https://colab.research.google.com/github/Vishvesh-Bhardwaj/AI---LAB---18CSC305J/blob/main/BFS_%2B_DFS.ipynb\" target=\"_parent\"><img src=\"https://colab.research.google.com/assets/colab-badge.svg\" alt=\"Open In Colab\"/></a>"
      ]
    },
    {
      "cell_type": "code",
      "execution_count": null,
      "metadata": {
        "colab": {
          "base_uri": "https://localhost:8080/"
        },
        "id": "J_u6lgLKCn3K",
        "outputId": "3b8f026e-fd89-4828-9103-1d8bf5afa257"
      },
      "outputs": [
        {
          "output_type": "stream",
          "name": "stdout",
          "text": [
            "A B C D F E "
          ]
        }
      ],
      "source": [
        "graph = {\n",
        "  'A' : ['B','C'],\n",
        "  'B' : ['D'],\n",
        "  'C' : ['F'],\n",
        "  'D' : ['E', 'F'],\n",
        "  'E' : [],\n",
        "  'F' : ['A']\n",
        "}\n",
        " \n",
        "visited = [] # Keep track of visited nodes.\n",
        "queue = []   # Queue\n",
        " \n",
        "def bfs(visited, graph, node):\n",
        "    visited.append(node)\n",
        "    queue.append(node)\n",
        "    while queue:\n",
        "        s = queue.pop(0) \n",
        "        print (s, end = \" \") \n",
        "        for neighbour in graph[s]:\n",
        "              if neighbour not in visited:\n",
        "                    visited.append(neighbour)\n",
        "                    queue.append(neighbour)\n",
        " \n",
        "# Driver Code\n",
        "bfs(visited, graph, 'A')"
      ]
    },
    {
      "cell_type": "code",
      "source": [
        "graph = {\n",
        "  'A' : ['B','C'],\n",
        "  'B' : ['D'],\n",
        "  'C' : ['F'],\n",
        "  'D' : ['E', 'F'],\n",
        "  'E' : [],\n",
        "  'F' : ['A']\n",
        "} \n",
        "visited = set() # Keep track of visited nodes.\n",
        " \n",
        "def dfs(visited, graph, node):\n",
        "    if node not in visited:\n",
        "        print (node)\n",
        "        visited.add(node)\n",
        "        for neighbour in graph[node]:\n",
        "            dfs(visited, graph, neighbour)\n",
        " \n",
        "dfs(visited, graph, 'A')"
      ],
      "metadata": {
        "colab": {
          "base_uri": "https://localhost:8080/"
        },
        "id": "FnnrVgpvJBZd",
        "outputId": "b68ddb0a-e5ac-4028-f1f6-c28881f9ba15"
      },
      "execution_count": null,
      "outputs": [
        {
          "output_type": "stream",
          "name": "stdout",
          "text": [
            "A\n",
            "B\n",
            "D\n",
            "E\n",
            "F\n",
            "C\n"
          ]
        }
      ]
    },
    {
      "cell_type": "code",
      "source": [
        "from collections import deque\n",
        "\n",
        "\n",
        "def BFS(a, b, target):\n",
        "\n",
        "\t# Map is used to store the states, every\n",
        "\t# state is hashed to binary value to\n",
        "\t# indicate either that state is visited\n",
        "\t# before or not\n",
        "\tm = {}\n",
        "\tisSolvable = False\n",
        "\tpath = []\n",
        "\n",
        "\t# Queue to maintain states\n",
        "\tq = deque()\n",
        "\n",
        "\t# Initializing with initial state\n",
        "\tq.append((0, 0))\n",
        "\n",
        "\twhile (len(q) > 0):\n",
        "\n",
        "\t\t# Current state\n",
        "\t\tu = q.popleft()\n",
        "\n",
        "\t\t# q.pop() #pop off used state\n",
        "\n",
        "\t\t# If this state is already visited\n",
        "\t\tif ((u[0], u[1]) in m):\n",
        "\t\t\tcontinue\n",
        "\n",
        "\t\t# Doesn't met jug constraints\n",
        "\t\tif ((u[0] > a or u[1] > b or\n",
        "\t\t\tu[0] < 0 or u[1] < 0)):\n",
        "\t\t\tcontinue\n",
        "\n",
        "\t\t# Filling the vector for constructing\n",
        "\t\t# the solution path\n",
        "\t\tpath.append([u[0], u[1]])\n",
        "\n",
        "\t\t# Marking current state as visited\n",
        "\t\tm[(u[0], u[1])] = 1\n",
        "\n",
        "\t\t# If we reach solution state, put ans=1\n",
        "\t\tif (u[0] == target or u[1] == target):\n",
        "\t\t\tisSolvable = True\n",
        "\n",
        "\t\t\tif (u[0] == target):\n",
        "\t\t\t\tif (u[1] != 0):\n",
        "\n",
        "\t\t\t\t\t# Fill final state\n",
        "\t\t\t\t\tpath.append([u[0], 0])\n",
        "\t\t\telse:\n",
        "\t\t\t\tif (u[0] != 0):\n",
        "\n",
        "\t\t\t\t\t# Fill final state\n",
        "\t\t\t\t\tpath.append([0, u[1]])\n",
        "\n",
        "\t\t\t# Print the solution path\n",
        "\t\t\tsz = len(path)\n",
        "\t\t\tfor i in range(sz):\n",
        "\t\t\t\tprint(\"(\", path[i][0], \",\",\n",
        "\t\t\t\t\tpath[i][1], \")\")\n",
        "\t\t\tbreak\n",
        "\n",
        "\t\t# If we have not reached final state\n",
        "\t\t# then, start developing intermediate\n",
        "\t\t# states to reach solution state\n",
        "\t\tq.append([u[0], b]) # Fill Jug2\n",
        "\t\tq.append([a, u[1]]) # Fill Jug1\n",
        "\n",
        "\t\tfor ap in range(max(a, b) + 1):\n",
        "\n",
        "\t\t\t# Pour amount ap from Jug2 to Jug1\n",
        "\t\t\tc = u[0] + ap\n",
        "\t\t\td = u[1] - ap\n",
        "\n",
        "\t\t\t# Check if this state is possible or not\n",
        "\t\t\tif (c == a or (d == 0 and d >= 0)):\n",
        "\t\t\t\tq.append([c, d])\n",
        "\n",
        "\t\t\t# Pour amount ap from Jug 1 to Jug2\n",
        "\t\t\tc = u[0] - ap\n",
        "\t\t\td = u[1] + ap\n",
        "\n",
        "\t\t\t# Check if this state is possible or not\n",
        "\t\t\tif ((c == 0 and c >= 0) or d == b):\n",
        "\t\t\t\tq.append([c, d])\n",
        "\n",
        "\t\t# Empty Jug2\n",
        "\t\tq.append([a, 0])\n",
        "\n",
        "\t\t# Empty Jug1\n",
        "\t\tq.append([0, b])\n",
        "\n",
        "\t# No, solution exists if ans=0\n",
        "\tif (not isSolvable):\n",
        "\t\tprint(\"No solution\")\n",
        "\n",
        "\n",
        "# Driver code\n",
        "if __name__ == '__main__':\n",
        "\n",
        "\tJug1, Jug2, target = 4, 3, 2\n",
        "\tprint(\"Path from initial state \"\n",
        "\t\t\"to solution state ::\")\n",
        "\n",
        "\tBFS(Jug1, Jug2, target)\n",
        "\n",
        "\n",
        "\n"
      ],
      "metadata": {
        "colab": {
          "base_uri": "https://localhost:8080/"
        },
        "id": "J7OTzgFMNEzn",
        "outputId": "b8cb6dc0-65cd-47fe-974d-e3b6568d95cc"
      },
      "execution_count": null,
      "outputs": [
        {
          "output_type": "stream",
          "name": "stdout",
          "text": [
            "Path from initial state to solution state ::\n",
            "( 0 , 0 )\n",
            "( 0 , 3 )\n",
            "( 4 , 0 )\n",
            "( 4 , 3 )\n",
            "( 3 , 0 )\n",
            "( 1 , 3 )\n",
            "( 3 , 3 )\n",
            "( 4 , 2 )\n",
            "( 0 , 2 )\n"
          ]
        }
      ]
    },
    {
      "cell_type": "code",
      "source": [
        "#BFS N Queens\n",
        "\n",
        "from typing import List\n",
        "\n",
        "def is_valid(board: List[List[int]], row: int, col: int, n: int) -> bool:\n",
        "    for i in range(col):\n",
        "        if board[row][i] == 1:\n",
        "            return False\n",
        "\n",
        "    for i, j in zip(range(row, -1, -1), range(col, -1, -1)):\n",
        "        if board[i][j] == 1:\n",
        "            return False\n",
        "\n",
        "    for i, j in zip(range(row, n, 1), range(col, -1, -1)):\n",
        "        if board[i][j] == 1:\n",
        "            return False\n",
        "\n",
        "    return True\n",
        "\n",
        "def bfs(board: List[List[int]], col: int, n: int) -> bool:\n",
        "    if col >= n:\n",
        "        return True\n",
        "\n",
        "    for i in range(n):\n",
        "        if is_valid(board, i, col, n):\n",
        "            board[i][col] = 1\n",
        "            if bfs(board, col + 1, n):\n",
        "                return True\n",
        "            board[i][col] = 0\n",
        "\n",
        "    return False\n",
        "\n",
        "def solve_n_queens(n: int) -> List[List[int]]:\n",
        "    board = [[0 for _ in range(n)] for __ in range(n)]\n",
        "    if bfs(board, 0, n):\n",
        "        return board\n",
        "    return []\n",
        "\n",
        "n = 8\n",
        "result = solve_n_queens(n)\n",
        "if result:\n",
        "    for row in result:\n",
        "        print(row)\n",
        "else:\n",
        "    print(\"No solution found.\")\n"
      ],
      "metadata": {
        "colab": {
          "base_uri": "https://localhost:8080/"
        },
        "id": "XwcPlxJQRtKE",
        "outputId": "befec5f6-caf6-44b8-958a-bd8c416fe113"
      },
      "execution_count": null,
      "outputs": [
        {
          "output_type": "stream",
          "name": "stdout",
          "text": [
            "[1, 0, 0, 0, 0, 0, 0, 0]\n",
            "[0, 0, 0, 0, 0, 0, 1, 0]\n",
            "[0, 0, 0, 0, 1, 0, 0, 0]\n",
            "[0, 0, 0, 0, 0, 0, 0, 1]\n",
            "[0, 1, 0, 0, 0, 0, 0, 0]\n",
            "[0, 0, 0, 1, 0, 0, 0, 0]\n",
            "[0, 0, 0, 0, 0, 1, 0, 0]\n",
            "[0, 0, 1, 0, 0, 0, 0, 0]\n"
          ]
        }
      ]
    },
    {
      "cell_type": "code",
      "source": [
        "#DFS N QUeens\n",
        "\n",
        "from typing import List\n",
        "\n",
        "def is_valid(board: List[List[int]], row: int, col: int, n: int) -> bool:\n",
        "    for i in range(col):\n",
        "        if board[row][i] == 1:\n",
        "            return False\n",
        "\n",
        "    for i, j in zip(range(row, -1, -1), range(col, -1, -1)):\n",
        "        if board[i][j] == 1:\n",
        "            return False\n",
        "\n",
        "    for i, j in zip(range(row, n, 1), range(col, -1, -1)):\n",
        "        if board[i][j] == 1:\n",
        "            return False\n",
        "\n",
        "    return True\n",
        "\n",
        "def dfs(board: List[List[int]], col: int, n: int) -> bool:\n",
        "    if col >= n:\n",
        "        return True\n",
        "\n",
        "    for i in range(n):\n",
        "        if is_valid(board, i, col, n):\n",
        "            board[i][col] = 1\n",
        "            if dfs(board, col + 1, n):\n",
        "                return True\n",
        "            board[i][col] = 0\n",
        "\n",
        "    return False\n",
        "\n",
        "def solve_n_queens(n: int) -> List[List[int]]:\n",
        "    board = [[0 for _ in range(n)] for __ in range(n)]\n",
        "    if dfs(board, 0, n):\n",
        "        return board\n",
        "    return []\n",
        "\n",
        "n = 8\n",
        "result = solve_n_queens(n)\n",
        "if result:\n",
        "    for row in result:                                                                                                                                                                                                                                                                                                    \n",
        "        print(row)\n",
        "else:\n",
        "    print(\"No solution found.\")\n"
      ],
      "metadata": {
        "colab": {
          "base_uri": "https://localhost:8080/"
        },
        "id": "xVsMrX-wRwJ7",
        "outputId": "38d31c61-158b-4590-ac19-29f95f3d7ffc"
      },
      "execution_count": null,
      "outputs": [
        {
          "output_type": "stream",
          "name": "stdout",
          "text": [
            "[1, 0, 0, 0, 0, 0, 0, 0]\n",
            "[0, 0, 0, 0, 0, 0, 1, 0]\n",
            "[0, 0, 0, 0, 1, 0, 0, 0]\n",
            "[0, 0, 0, 0, 0, 0, 0, 1]\n",
            "[0, 1, 0, 0, 0, 0, 0, 0]\n",
            "[0, 0, 0, 1, 0, 0, 0, 0]\n",
            "[0, 0, 0, 0, 0, 1, 0, 0]\n",
            "[0, 0, 1, 0, 0, 0, 0, 0]\n"
          ]
        }
      ]
    }
  ]
}