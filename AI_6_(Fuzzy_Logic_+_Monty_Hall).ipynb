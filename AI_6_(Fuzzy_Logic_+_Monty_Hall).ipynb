{
  "nbformat": 4,
  "nbformat_minor": 0,
  "metadata": {
    "colab": {
      "provenance": [],
      "include_colab_link": true
    },
    "kernelspec": {
      "name": "python3",
      "display_name": "Python 3"
    },
    "language_info": {
      "name": "python"
    }
  },
  "cells": [
    {
      "cell_type": "markdown",
      "metadata": {
        "id": "view-in-github",
        "colab_type": "text"
      },
      "source": [
        "<a href=\"https://colab.research.google.com/github/Vishvesh-Bhardwaj/AI---LAB---18CSC305J/blob/main/AI_6_(Fuzzy_Logic_%2B_Monty_Hall).ipynb\" target=\"_parent\"><img src=\"https://colab.research.google.com/assets/colab-badge.svg\" alt=\"Open In Colab\"/></a>"
      ]
    },
    {
      "cell_type": "markdown",
      "source": [
        "**FUZZY LOGIC PROBLEM**\n"
      ],
      "metadata": {
        "id": "7Dy_IcOTz7Qh"
      }
    },
    {
      "cell_type": "code",
      "source": [
        "\n",
        "A=dict()\n",
        "n1 = int(input(\"ENTER THE NUMBER OF ELEMENTS in dictionary 1 : \"))\n",
        "\n",
        "for i in range(n1):\n",
        "    first = input(\"Enter alphabet : \")\n",
        "    second = int(input(\"Enter value : \"))\n",
        "\n",
        "    A[first] = second\n",
        "\n",
        "B = dict()\n",
        "n2 = int(input(\"ENTER THE NUMBER OF ELEMENTS in dictionary 2 : \"))\n",
        "\n",
        "for i in range(n2):\n",
        "    third = input(\"Enter alphabet : \")\n",
        "    fourth = int(input(\"Enter value : \"))\n",
        "\n",
        "    B[third] = fourth\n",
        "\n",
        "\n",
        "Y = dict()\n",
        "\n",
        "print('The First Fuzzy Set is :', A)\n",
        "print('The Second Fuzzy Set is :', B)\n",
        " \n",
        " \n",
        "for A_key, B_key in zip(A, B):\n",
        "    A_value = A[A_key]\n",
        "    B_value = B[B_key]\n",
        " \n",
        "    if A_value > B_value:\n",
        "        Y[A_key] = A_value\n",
        "    else:\n",
        "        Y[B_key] = B_value\n",
        "         \n",
        "print('Fuzzy Set Union is :', Y)\n",
        "\n",
        "for A_key, B_key in zip(A, B):\n",
        "    A_value = A[A_key]\n",
        "    B_value = B[B_key]\n",
        " \n",
        "    if A_value < B_value:\n",
        "        Y[A_key] = A_value\n",
        "    else:\n",
        "        Y[B_key] = B_value\n",
        "print('Fuzzy Set Intersection is :', Y)\n",
        "\n",
        "for A_key in A:\n",
        "   Y[A_key]= 1-A[A_key]\n",
        "         \n",
        "print('Fuzzy Set Complement is :', Y)\n",
        "\n",
        "#A = {\"a\": 10 ,\"b\": 5, \"c\": 7, \"d\": 3,\"e\" : 8}\n",
        "#B = {\"a\": 3 ,\"b\": 6, \"c\": 9, \"d\": 2,\"e\" : 1}\n",
        "\n",
        "\n"
      ],
      "metadata": {
        "colab": {
          "base_uri": "https://localhost:8080/"
        },
        "id": "d-fJgTGzxFPo",
        "outputId": "f94c161f-f494-4651-ca59-ac1ab067db32"
      },
      "execution_count": null,
      "outputs": [
        {
          "output_type": "stream",
          "name": "stdout",
          "text": [
            "ENTER THE NUMBER OF ELEMENTS in dictionary 1 : 5\n",
            "Enter alphabet : a\n",
            "Enter value : 10\n",
            "Enter alphabet : b\n",
            "Enter value : 5\n",
            "Enter alphabet : c\n",
            "Enter value : 7\n",
            "Enter alphabet : d\n",
            "Enter value : 3\n",
            "Enter alphabet : e\n",
            "Enter value : 8\n",
            "ENTER THE NUMBER OF ELEMENTS in dictionary 2 : 5\n",
            "Enter alphabet : a\n",
            "Enter value : 3\n",
            "Enter alphabet : b\n",
            "Enter value : 6\n",
            "Enter alphabet : c\n",
            "Enter value : 9\n",
            "Enter alphabet : d\n",
            "Enter value : 2\n",
            "Enter alphabet : e\n",
            "Enter value : 1\n",
            "The First Fuzzy Set is : {'a': 10, 'b': 5, 'c': 7, 'd': 3, 'e': 8}\n",
            "The Second Fuzzy Set is : {'a': 3, 'b': 6, 'c': 9, 'd': 2, 'e': 1}\n",
            "Fuzzy Set Union is : {'a': 10, 'b': 6, 'c': 9, 'd': 3, 'e': 8}\n",
            "Fuzzy Set Intersection is : {'a': 3, 'b': 5, 'c': 7, 'd': 2, 'e': 1}\n",
            "Fuzzy Set Complement is : {'a': -9, 'b': -4, 'c': -6, 'd': -2, 'e': -7}\n"
          ]
        }
      ]
    },
    {
      "cell_type": "markdown",
      "source": [
        "**MONTY HALL PROBLEM**"
      ],
      "metadata": {
        "id": "0CM2rRiKv7vY"
      }
    },
    {
      "cell_type": "code",
      "execution_count": null,
      "metadata": {
        "colab": {
          "base_uri": "https://localhost:8080/"
        },
        "id": "_r-Y2u5rvmoh",
        "outputId": "d26c9bff-b3a2-4dbd-e561-114c01028d49"
      },
      "outputs": [
        {
          "output_type": "stream",
          "name": "stdout",
          "text": [
            "ENTER THE NUMBER OF DOORS : 5\n",
            "ENTER THE NUMBER OF TRIALS : 2\n",
            "Monty Hall Problem with 5 doors\n",
            "Proportion of wins without switching: 0.0000\n",
            "Proportion of wins with switching: 0.5000\n"
          ]
        }
      ],
      "source": [
        "import random\n",
        "def run_trial(switch_doors, ndoors=3):\n",
        "    chosen_door = random.randint(1, ndoors)\n",
        "    if switch_doors:\n",
        "        revealed_door = 3 if chosen_door==2 else 2\n",
        "        available_doors = [dnum for dnum in range(1,ndoors+1)if dnum not in (chosen_door, revealed_door)]\n",
        "        chosen_door = random.choice(available_doors)\n",
        "    return chosen_door == 1\n",
        "    \n",
        "def run_trials(ntrials, switch_doors, ndoors=3):\n",
        "    nwins = 0\n",
        "    for i in range(ntrials):\n",
        "        if run_trial(switch_doors, ndoors):\n",
        "            nwins += 1\n",
        "    return nwins\n",
        "\n",
        "ndoors = int(input(\"ENTER THE NUMBER OF DOORS : \"))\n",
        "ntrials = int(input(\"ENTER THE NUMBER OF TRIALS : \"))\n",
        "nwins_without_switch = run_trials(ntrials, False, ndoors)\n",
        "nwins_with_switch = run_trials(ntrials, True, ndoors)\n",
        "\n",
        "print('Monty Hall Problem with {} doors'.format(ndoors))\n",
        "print('Proportion of wins without switching: {:.4f}'.format(nwins_without_switch/ntrials))\n",
        "print('Proportion of wins with switching: {:.4f}'.format(nwins_with_switch/ntrials))"
      ]
    }
  ]
}